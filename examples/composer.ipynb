{
 "cells": [
  {
   "cell_type": "code",
   "execution_count": 1,
   "metadata": {},
   "outputs": [
    {
     "name": "stdout",
     "output_type": "stream",
     "text": [
      "To load \"kekule-clj\":\n",
      "  Load 1 ASDF system:\n",
      "    kekule-clj\n"
     ]
    },
    {
     "data": {
      "text/plain": [
       "(:KEKULE-CLJ)"
      ]
     },
     "execution_count": 1,
     "metadata": {},
     "output_type": "execute_result"
    },
    {
     "name": "stdout",
     "output_type": "stream",
     "text": [
      "\n",
      "; Loading \"kekule-clj\"\n",
      "\n"
     ]
    }
   ],
   "source": [
    "(ql:quickload :kekule-clj)"
   ]
  },
  {
   "cell_type": "markdown",
   "metadata": {},
   "source": [
    "Load and display a file in MDL mol format"
   ]
  },
  {
   "cell_type": "code",
   "execution_count": 6,
   "metadata": {},
   "outputs": [
    {
     "data": {
      "application/vnd.jupyter.widget-view+json": {
       "model_id": "8c39f6142f9f4386d309056f618e270f",
       "version_major": 2,
       "version_minor": 0
      },
      "text/plain": [
       "A Jupyter Widget"
      ]
     },
     "metadata": {},
     "output_type": "display_data"
    }
   ],
   "source": [
    "(progn\n",
    "    (defparameter k (make-instance 'kekule::composer :format-id kekule:+mdl-mol-2000-format+ :layout (make-instance 'jupyter-widgets:layout :width \"800px\" :height \"600px\")\n",
    "                                   :data (alexandria:read-file-into-string \"chemFiles/acenaphthylene.mol\")))\n",
    "    k)"
   ]
  },
  {
   "cell_type": "code",
   "execution_count": 8,
   "metadata": {},
   "outputs": [
    {
     "data": {
      "text/plain": [
       "0"
      ]
     },
     "execution_count": 8,
     "metadata": {},
     "output_type": "execute_result"
    }
   ],
   "source": [
    "(kekule::fit k)"
   ]
  },
  {
   "cell_type": "markdown",
   "metadata": {},
   "source": [
    "Change the format to JSON so we can see the annotation field"
   ]
  },
  {
   "cell_type": "code",
   "execution_count": 3,
   "metadata": {},
   "outputs": [
    {
     "data": {
      "text/plain": [
       "\"Kekule-JSON\""
      ]
     },
     "execution_count": 3,
     "metadata": {},
     "output_type": "execute_result"
    }
   ],
   "source": [
    "(setf (kekule:format-id k) kekule:+kekule-json-format+)"
   ]
  },
  {
   "cell_type": "code",
   "execution_count": 4,
   "metadata": {},
   "outputs": [
    {
     "data": {
      "text/plain": [
       "(:OBJ (\"coordPos2D\" . 0) (\"coordPos3D\" . 0)\n",
       " (\"defAutoScaleRefLength\" . 8250000000000001/10000000000000000)\n",
       " (\"root\" :OBJ (\"id\" . \"o1\") (\"coordPos2D\" . 0) (\"coordPos3D\" . 0)\n",
       "  (\"children\" :OBJ (\"id\" . \"o2\") (\"coordPos2D\" . 0) (\"coordPos3D\" . 0)\n",
       "   (\"items\"\n",
       "    (:OBJ (\"__type__\" . \"Kekule.Molecule\") (\"id\" . \"m1\")\n",
       "     (\"info\" :OBJ (\"generator\" . \"ChemDraw\")\n",
       "      (\"date\" :OBJ (\"__type__\" . \"date\")\n",
       "       (\"date\" . \"Sun, 02 Oct 2011 16:28:09 GMT\"))\n",
       "      (\"__type__\" . \"object\"))\n",
       "     (\"coordPos2D\" . 0) (\"coordPos3D\" . 0)\n",
       "     (\"renderOptions\" :OBJ (\"expanded\" . T) (\"__type__\" . \"object\"))\n",
       "     (\"coord2D\" :OBJ (\"x\" . 14850000000000001/1000000000000000)\n",
       "      (\"y\" . 11653125000000001/250000000000000) (\"__type__\" . \"object\"))\n",
       "     (\"charge\" . 0) (\"parity\")\n",
       "     (\"ctab\" :OBJ\n",
       "      (\"nodes\"\n",
       "       (:OBJ (\"__type__\" . \"Kekule.Atom\") (\"id\" . \"a1\") (\"coordPos2D\" . 0)\n",
       "        (\"coordPos3D\" . 0)\n",
       "        (\"coord2D\" :OBJ (\"x\" . -7/10000) (\"y\" . -3/2000)\n",
       "         (\"__type__\" . \"object\"))\n",
       "        (\"charge\" . 0) (\"parity\") (\"isotopeId\" . \"C\"))\n",
       "       (:OBJ (\"__type__\" . \"Kekule.Atom\") (\"id\" . \"a2\") (\"coordPos2D\" . 0)\n",
       "        (\"coordPos3D\" . 0)\n",
       "        (\"coord2D\" :OBJ (\"x\" . -7/10000) (\"y\" . -1653/2000)\n",
       "         (\"__type__\" . \"object\"))\n",
       "        (\"charge\" . 0) (\"parity\") (\"isotopeId\" . \"C\"))\n",
       "       (:OBJ (\"__type__\" . \"Kekule.Atom\") (\"id\" . \"a3\") (\"coordPos2D\" . 0)\n",
       "        (\"coordPos3D\" . 0)\n",
       "        (\"coord2D\" :OBJ (\"x\" . 1427/2000) (\"y\" . -99/80)\n",
       "         (\"__type__\" . \"object\"))\n",
       "        (\"charge\" . 0) (\"parity\") (\"isotopeId\" . \"C\"))\n",
       "       (:OBJ (\"__type__\" . \"Kekule.Atom\") (\"id\" . \"a4\") (\"coordPos2D\" . 0)\n",
       "        (\"coordPos3D\" . 0)\n",
       "        (\"coord2D\" :OBJ (\"x\" . 3573/2500) (\"y\" . -1653/2000)\n",
       "         (\"__type__\" . \"object\"))\n",
       "        (\"charge\" . 0) (\"parity\") (\"isotopeId\" . \"C\"))\n",
       "       (:OBJ (\"__type__\" . \"Kekule.Atom\") (\"id\" . \"a5\") (\"coordPos2D\" . 0)\n",
       "        (\"coordPos3D\" . 0)\n",
       "        (\"coord2D\" :OBJ (\"x\" . 3573/2500) (\"y\" . -3/2000)\n",
       "         (\"__type__\" . \"object\"))\n",
       "        (\"charge\" . 0) (\"parity\") (\"isotopeId\" . \"C\"))\n",
       "       (:OBJ (\"__type__\" . \"Kekule.Atom\") (\"id\" . \"a6\") (\"coordPos2D\" . 0)\n",
       "        (\"coordPos3D\" . 0)\n",
       "        (\"coord2D\" :OBJ (\"x\" . 1427/2000) (\"y\" . 207/500)\n",
       "         (\"__type__\" . \"object\"))\n",
       "        (\"charge\" . 0) (\"parity\") (\"isotopeId\" . \"C\"))\n",
       "       (:OBJ (\"__type__\" . \"Kekule.Atom\") (\"id\" . \"a7\") (\"coordPos2D\" . 0)\n",
       "        (\"coordPos3D\" . 0)\n",
       "        (\"coord2D\" :OBJ (\"x\" . -143/200) (\"y\" . 33/80) (\"__type__\" . \"object\"))\n",
       "        (\"charge\" . 0) (\"parity\") (\"isotopeId\" . \"C\"))\n",
       "       (:OBJ (\"__type__\" . \"Kekule.Atom\") (\"id\" . \"a8\") (\"coordPos2D\" . 0)\n",
       "        (\"coordPos3D\" . 0)\n",
       "        (\"coord2D\" :OBJ (\"x\" . -3573/2500) (\"y\" . -3/2000)\n",
       "         (\"__type__\" . \"object\"))\n",
       "        (\"charge\" . 0) (\"parity\") (\"isotopeId\" . \"C\"))\n",
       "       (:OBJ (\"__type__\" . \"Kekule.Atom\") (\"id\" . \"a9\") (\"coordPos2D\" . 0)\n",
       "        (\"coordPos3D\" . 0)\n",
       "        (\"coord2D\" :OBJ (\"x\" . -3573/2500) (\"y\" . -1653/2000)\n",
       "         (\"__type__\" . \"object\"))\n",
       "        (\"charge\" . 0) (\"parity\") (\"isotopeId\" . \"C\"))\n",
       "       (:OBJ (\"__type__\" . \"Kekule.Atom\") (\"id\" . \"a10\") (\"coordPos2D\" . 0)\n",
       "        (\"coordPos3D\" . 0)\n",
       "        (\"coord2D\" :OBJ (\"x\" . -143/200) (\"y\" . -309/250)\n",
       "         (\"__type__\" . \"object\"))\n",
       "        (\"charge\" . 0) (\"parity\") (\"isotopeId\" . \"C\"))\n",
       "       (:OBJ (\"__type__\" . \"Kekule.Atom\") (\"id\" . \"a11\") (\"coordPos2D\" . 0)\n",
       "        (\"coordPos3D\" . 0)\n",
       "        (\"coord2D\" :OBJ (\"x\" . 143/200) (\"y\" . 99/80) (\"__type__\" . \"object\"))\n",
       "        (\"charge\" . 0) (\"parity\") (\"isotopeId\" . \"C\"))\n",
       "       (:OBJ (\"__type__\" . \"Kekule.Atom\") (\"id\" . \"a12\") (\"coordPos2D\" . 0)\n",
       "        (\"coordPos3D\" . 0)\n",
       "        (\"coord2D\" :OBJ (\"x\" . -143/200) (\"y\" . 99/80) (\"__type__\" . \"object\"))\n",
       "        (\"charge\" . 0) (\"parity\") (\"isotopeId\" . \"C\")))\n",
       "      (\"anchorNodes\")\n",
       "      (\"connectors\"\n",
       "       (:OBJ (\"__type__\" . \"Kekule.Bond\") (\"id\" . \"b1\") (\"coordPos2D\" . 0)\n",
       "        (\"coordPos3D\" . 0) (\"bondType\" . \"covalent\") (\"bondOrder\" . 2)\n",
       "        (\"electronCount\" . 4) (\"isInAromaticRing\") (\"connectedObjs\" 0 1))\n",
       "       (:OBJ (\"__type__\" . \"Kekule.Bond\") (\"id\" . \"b2\") (\"coordPos2D\" . 0)\n",
       "        (\"coordPos3D\" . 0) (\"parity\") (\"bondType\" . \"covalent\")\n",
       "        (\"bondOrder\" . 1) (\"electronCount\" . 2) (\"isInAromaticRing\")\n",
       "        (\"connectedObjs\" 1 2))\n",
       "       (:OBJ (\"__type__\" . \"Kekule.Bond\") (\"id\" . \"b3\") (\"coordPos2D\" . 0)\n",
       "        (\"coordPos3D\" . 0) (\"bondType\" . \"covalent\") (\"bondOrder\" . 2)\n",
       "        (\"electronCount\" . 4) (\"isInAromaticRing\") (\"connectedObjs\" 2 3))\n",
       "       (:OBJ (\"__type__\" . \"Kekule.Bond\") (\"id\" . \"b4\") (\"coordPos2D\" . 0)\n",
       "        (\"coordPos3D\" . 0) (\"parity\") (\"bondType\" . \"covalent\")\n",
       "        (\"bondOrder\" . 1) (\"electronCount\" . 2) (\"isInAromaticRing\")\n",
       "        (\"connectedObjs\" 3 4))\n",
       "       (:OBJ (\"__type__\" . \"Kekule.Bond\") (\"id\" . \"b5\") (\"coordPos2D\" . 0)\n",
       "        (\"coordPos3D\" . 0) (\"bondType\" . \"covalent\") (\"bondOrder\" . 2)\n",
       "        (\"electronCount\" . 4) (\"isInAromaticRing\") (\"connectedObjs\" 4 5))\n",
       "       (:OBJ (\"__type__\" . \"Kekule.Bond\") (\"id\" . \"b6\") (\"coordPos2D\" . 0)\n",
       "        (\"coordPos3D\" . 0) (\"parity\") (\"bondType\" . \"covalent\")\n",
       "        (\"bondOrder\" . 1) (\"electronCount\" . 2) (\"isInAromaticRing\")\n",
       "        (\"connectedObjs\" 0 5))\n",
       "       (:OBJ (\"__type__\" . \"Kekule.Bond\") (\"id\" . \"b7\") (\"coordPos2D\" . 0)\n",
       "        (\"coordPos3D\" . 0) (\"parity\") (\"bondType\" . \"covalent\")\n",
       "        (\"bondOrder\" . 1) (\"electronCount\" . 2) (\"isInAromaticRing\")\n",
       "        (\"connectedObjs\" 0 6))\n",
       "       (:OBJ (\"__type__\" . \"Kekule.Bond\") (\"id\" . \"b8\") (\"coordPos2D\" . 0)\n",
       "        (\"coordPos3D\" . 0) (\"bondType\" . \"covalent\") (\"bondOrder\" . 2)\n",
       "        (\"electronCount\" . 4) (\"isInAromaticRing\") (\"connectedObjs\" 6 7))\n",
       "       (:OBJ (\"__type__\" . \"Kekule.Bond\") (\"id\" . \"b9\") (\"coordPos2D\" . 0)\n",
       "        (\"coordPos3D\" . 0) (\"parity\") (\"bondType\" . \"covalent\")\n",
       "        (\"bondOrder\" . 1) (\"electronCount\" . 2) (\"isInAromaticRing\")\n",
       "        (\"connectedObjs\" 7 8))\n",
       "       (:OBJ (\"__type__\" . \"Kekule.Bond\") (\"id\" . \"b10\") (\"coordPos2D\" . 0)\n",
       "        (\"coordPos3D\" . 0) (\"bondType\" . \"covalent\") (\"bondOrder\" . 2)\n",
       "        (\"electronCount\" . 4) (\"isInAromaticRing\") (\"connectedObjs\" 8 9))\n",
       "       (:OBJ (\"__type__\" . \"Kekule.Bond\") (\"id\" . \"b11\") (\"coordPos2D\" . 0)\n",
       "        (\"coordPos3D\" . 0) (\"parity\") (\"bondType\" . \"covalent\")\n",
       "        (\"bondOrder\" . 1) (\"electronCount\" . 2) (\"isInAromaticRing\")\n",
       "        (\"connectedObjs\" 1 9))\n",
       "       (:OBJ (\"__type__\" . \"Kekule.Bond\") (\"id\" . \"b12\") (\"coordPos2D\" . 0)\n",
       "        (\"coordPos3D\" . 0) (\"parity\") (\"bondType\" . \"covalent\")\n",
       "        (\"bondOrder\" . 1) (\"electronCount\" . 2) (\"isInAromaticRing\")\n",
       "        (\"connectedObjs\" 5 10))\n",
       "       (:OBJ (\"__type__\" . \"Kekule.Bond\") (\"id\" . \"b13\") (\"coordPos2D\" . 0)\n",
       "        (\"coordPos3D\" . 0) (\"parity\") (\"bondType\" . \"covalent\")\n",
       "        (\"bondOrder\" . 1) (\"electronCount\" . 2) (\"isInAromaticRing\")\n",
       "        (\"connectedObjs\" 6 11))\n",
       "       (:OBJ (\"__type__\" . \"Kekule.Bond\") (\"id\" . \"b14\") (\"coordPos2D\" . 0)\n",
       "        (\"coordPos3D\" . 0) (\"bondType\" . \"covalent\") (\"bondOrder\" . 2)\n",
       "        (\"electronCount\" . 4) (\"isInAromaticRing\") (\"connectedObjs\" 10 11)))\n",
       "      (\"__type__\" . \"Kekule.StructureConnectionTable\"))\n",
       "     (\"name\" . \"Untitled Document-2\")))\n",
       "   (\"__type__\" . \"Kekule.ChemObjList\"))\n",
       "  (\"__type__\" . \"Kekule.ChemSpaceElement\"))\n",
       " (\"enableAutoId\" . T)\n",
       " (\"screenSize\" :OBJ (\"x\" . 900) (\"y\" . 1500) (\"__type__\" . \"object\"))\n",
       " (\"size2D\" :OBJ (\"x\" . 29700000000000003/1000000000000000) (\"y\" . 99/2)\n",
       "  (\"__type__\" . \"object\"))\n",
       " (\"__type__\" . \"Kekule.ChemDocument\"))"
      ]
     },
     "execution_count": 4,
     "metadata": {},
     "output_type": "execute_result"
    }
   ],
   "source": [
    "(kekule:data k)"
   ]
  },
  {
   "cell_type": "code",
   "execution_count": 9,
   "metadata": {},
   "outputs": [
    {
     "data": {
      "application/vnd.jupyter.widget-view+json": {
       "model_id": "29bfa9ab09ad4fad061cbb9b05e3d9ca",
       "version_major": 2,
       "version_minor": 0
      },
      "text/plain": [
       "A Jupyter Widget"
      ]
     },
     "metadata": {},
     "output_type": "display_data"
    }
   ],
   "source": [
    "g"
   ]
  },
  {
   "cell_type": "code",
   "execution_count": 6,
   "metadata": {},
   "outputs": [
    {
     "data": {
      "text/plain": [
       "T"
      ]
     },
     "execution_count": 6,
     "metadata": {},
     "output_type": "execute_result"
    }
   ],
   "source": [
    "t"
   ]
  },
  {
   "cell_type": "code",
   "execution_count": null,
   "metadata": {},
   "outputs": [],
   "source": []
  }
 ],
 "metadata": {
  "kernelspec": {
   "display_name": "Common Lisp (SBCL)",
   "language": "common-lisp",
   "name": "common-lisp_sbcl"
  },
  "language_info": {
   "codemirror_mode": "text/x-common-lisp",
   "file_extension": ".lisp",
   "mimetype": "text/x-common-lisp",
   "name": "common-lisp",
   "pygments_lexer": "common-lisp",
   "version": "2.0.8"
  },
  "widgets": {
   "application/vnd.jupyter.widget-state+json": {
    "state": {
     "247bfacfba79429e10fb940155b3a59e": {
      "model_module": "@jupyter-widgets/base",
      "model_module_version": "1.2.0",
      "model_name": "LayoutModel",
      "state": {
       "height": "600px",
       "width": "800px"
      }
     },
     "2fbffc5cc1b7498f2010fa86d2b2b638": {
      "model_module": "@jupyter-widgets/base",
      "model_module_version": "1.2.0",
      "model_name": "LayoutModel",
      "state": {
       "width": "800px"
      }
     },
     "6b922c1dc6734ad44c5daaee94b0ce61": {
      "model_module": "kekule-clj",
      "model_module_version": "^0.1.11",
      "model_name": "KekuleComposerModel",
      "state": {
       "_model_module_version": "^0.1.11",
       "_view_module_version": "^0.1.11",
       "data": "Untitled Document-2\n  ChemDraw10021112282D\n\n 12 14  0  0  0  0  0  0  0  0999 V2000\n   14.8493   46.6110    0.0000 C   0  0  0  0  0  0  0  0  0  0  0  0\n   14.8493   45.7860    0.0000 C   0  0  0  0  0  0  0  0  0  0  0  0\n   15.5635   45.3750    0.0000 C   0  0  0  0  0  0  0  0  0  0  0  0\n   16.2792   45.7860    0.0000 C   0  0  0  0  0  0  0  0  0  0  0  0\n   16.2792   46.6110    0.0000 C   0  0  0  0  0  0  0  0  0  0  0  0\n   15.5635   47.0265    0.0000 C   0  0  0  0  0  0  0  0  0  0  0  0\n   14.1350   47.0250    0.0000 C   0  0  0  0  0  0  0  0  0  0  0  0\n   13.4208   46.6110    0.0000 C   0  0  0  0  0  0  0  0  0  0  0  0\n   13.4208   45.7860    0.0000 C   0  0  0  0  0  0  0  0  0  0  0  0\n   14.1350   45.3765    0.0000 C   0  0  0  0  0  0  0  0  0  0  0  0\n   15.5650   47.8500    0.0000 C   0  0  0  0  0  0  0  0  0  0  0  0\n   14.1350   47.8500    0.0000 C   0  0  0  0  0  0  0  0  0  0  0  0\n  1  2  2  0  0  0  0\n  2  3  1  0  0  0  0\n  3  4  2  0  0  0  0\n  4  5  1  0  0  0  0\n  5  6  2  0  0  0  0\n  1  6  1  0  0  0  0\n  1  7  1  0  0  0  0\n  7  8  2  0  0  0  0\n  8  9  1  0  0  0  0\n  9 10  2  0  0  0  0\n  2 10  1  0  0  0  0\n  6 11  1  0  0  0  0\n  7 12  1  0  0  0  0\n 11 12  2  0  0  0  0\nM  END",
       "layout": "IPY_MODEL_247bfacfba79429e10fb940155b3a59e"
      }
     },
     "936f63f02d55405560b741cf882f3ce9": {
      "model_module": "kekule-clj",
      "model_module_version": "^0.1.11",
      "model_name": "KekuleComposerModel",
      "state": {
       "_model_module_version": "^0.1.11",
       "_view_module_version": "^0.1.11",
       "data": "Untitled Document-2\n  ChemDraw10021112282D\n\n 12 14  0  0  0  0  0  0  0  0999 V2000\n   14.8493   46.6110    0.0000 C   0  0  0  0  0  0  0  0  0  0  0  0\n   14.8493   45.7860    0.0000 C   0  0  0  0  0  0  0  0  0  0  0  0\n   15.5635   45.3750    0.0000 C   0  0  0  0  0  0  0  0  0  0  0  0\n   16.2792   45.7860    0.0000 C   0  0  0  0  0  0  0  0  0  0  0  0\n   16.2792   46.6110    0.0000 C   0  0  0  0  0  0  0  0  0  0  0  0\n   15.5635   47.0265    0.0000 C   0  0  0  0  0  0  0  0  0  0  0  0\n   14.1350   47.0250    0.0000 C   0  0  0  0  0  0  0  0  0  0  0  0\n   13.4208   46.6110    0.0000 C   0  0  0  0  0  0  0  0  0  0  0  0\n   13.4208   45.7860    0.0000 C   0  0  0  0  0  0  0  0  0  0  0  0\n   14.1350   45.3765    0.0000 C   0  0  0  0  0  0  0  0  0  0  0  0\n   15.5650   47.8500    0.0000 C   0  0  0  0  0  0  0  0  0  0  0  0\n   14.1350   47.8500    0.0000 C   0  0  0  0  0  0  0  0  0  0  0  0\n  1  2  2  0  0  0  0\n  2  3  1  0  0  0  0\n  3  4  2  0  0  0  0\n  4  5  1  0  0  0  0\n  5  6  2  0  0  0  0\n  1  6  1  0  0  0  0\n  1  7  1  0  0  0  0\n  7  8  2  0  0  0  0\n  8  9  1  0  0  0  0\n  9 10  2  0  0  0  0\n  2 10  1  0  0  0  0\n  6 11  1  0  0  0  0\n  7 12  1  0  0  0  0\n 11 12  2  0  0  0  0\nM  END",
       "layout": "IPY_MODEL_2fbffc5cc1b7498f2010fa86d2b2b638"
      }
     },
     "b1cd00d0484245b393b32123647c8a64": {
      "model_module": "kekule-clj",
      "model_module_version": "^0.1.11",
      "model_name": "KekuleComposerModel",
      "state": {
       "_model_module_version": "^0.1.11",
       "_view_module_version": "^0.1.11",
       "data": "Untitled Document-2\n  ChemDraw10021112282D\n\n 12 14  0  0  0  0  0  0  0  0999 V2000\n   14.8493   46.6110    0.0000 C   0  0  0  0  0  0  0  0  0  0  0  0\n   14.8493   45.7860    0.0000 C   0  0  0  0  0  0  0  0  0  0  0  0\n   15.5635   45.3750    0.0000 C   0  0  0  0  0  0  0  0  0  0  0  0\n   16.2792   45.7860    0.0000 C   0  0  0  0  0  0  0  0  0  0  0  0\n   16.2792   46.6110    0.0000 C   0  0  0  0  0  0  0  0  0  0  0  0\n   15.5635   47.0265    0.0000 C   0  0  0  0  0  0  0  0  0  0  0  0\n   14.1350   47.0250    0.0000 C   0  0  0  0  0  0  0  0  0  0  0  0\n   13.4208   46.6110    0.0000 C   0  0  0  0  0  0  0  0  0  0  0  0\n   13.4208   45.7860    0.0000 C   0  0  0  0  0  0  0  0  0  0  0  0\n   14.1350   45.3765    0.0000 C   0  0  0  0  0  0  0  0  0  0  0  0\n   15.5650   47.8500    0.0000 C   0  0  0  0  0  0  0  0  0  0  0  0\n   14.1350   47.8500    0.0000 C   0  0  0  0  0  0  0  0  0  0  0  0\n  1  2  2  0  0  0  0\n  2  3  1  0  0  0  0\n  3  4  2  0  0  0  0\n  4  5  1  0  0  0  0\n  5  6  2  0  0  0  0\n  1  6  1  0  0  0  0\n  1  7  1  0  0  0  0\n  7  8  2  0  0  0  0\n  8  9  1  0  0  0  0\n  9 10  2  0  0  0  0\n  2 10  1  0  0  0  0\n  6 11  1  0  0  0  0\n  7 12  1  0  0  0  0\n 11 12  2  0  0  0  0\nM  END",
       "layout": "IPY_MODEL_e9fbb0dc14304cd984deae3227160e89"
      }
     },
     "e9fbb0dc14304cd984deae3227160e89": {
      "model_module": "@jupyter-widgets/base",
      "model_module_version": "1.2.0",
      "model_name": "LayoutModel",
      "state": {}
     }
    },
    "version_major": 2,
    "version_minor": 0
   }
  }
 },
 "nbformat": 4,
 "nbformat_minor": 4
}
